{
 "cells": [
  {
   "cell_type": "code",
   "execution_count": 2,
   "id": "5f68ea78-b34e-4bab-bbdd-b7b11caa1582",
   "metadata": {},
   "outputs": [
    {
     "name": "stdout",
     "output_type": "stream",
     "text": [
      "=====Welcome to Personal Expense Tracker=====\n",
      "===Menu===\n",
      "1. Add expense\n",
      "2. View All Expenses\n",
      "3. Show Total Spending\n",
      "4. Show Category-wise Summary\n",
      "5. Show Highest Expense\n",
      "6. Exit\n"
     ]
    },
    {
     "name": "stdin",
     "output_type": "stream",
     "text": [
      "Enter any one option: 2\n"
     ]
    },
    {
     "name": "stdout",
     "output_type": "stream",
     "text": [
      "No expenses recorded yet!\n",
      "\n",
      "=====Welcome to Personal Expense Tracker=====\n",
      "===Menu===\n",
      "1. Add expense\n",
      "2. View All Expenses\n",
      "3. Show Total Spending\n",
      "4. Show Category-wise Summary\n",
      "5. Show Highest Expense\n",
      "6. Exit\n"
     ]
    },
    {
     "name": "stdin",
     "output_type": "stream",
     "text": [
      "Enter any one option: 1\n",
      "Enter the amount: Rs. 500\n",
      "Enter the category: Food\n",
      "Enter the date(DD-MM-YYYY): 25-05-2025\n",
      "Enter the note: Birthday Treat\n"
     ]
    },
    {
     "name": "stdout",
     "output_type": "stream",
     "text": [
      " Expense added successfully!\n",
      "\n",
      "=====Welcome to Personal Expense Tracker=====\n",
      "===Menu===\n",
      "1. Add expense\n",
      "2. View All Expenses\n",
      "3. Show Total Spending\n",
      "4. Show Category-wise Summary\n",
      "5. Show Highest Expense\n",
      "6. Exit\n"
     ]
    },
    {
     "name": "stdin",
     "output_type": "stream",
     "text": [
      "Enter any one option: 1\n",
      "Enter the amount: Rs. 650\n",
      "Enter the category: Food\n",
      "Enter the date(DD-MM-YYYY): 20-07-2025\n",
      "Enter the note: Dinner\n"
     ]
    },
    {
     "name": "stdout",
     "output_type": "stream",
     "text": [
      " Expense added successfully!\n",
      "\n",
      "=====Welcome to Personal Expense Tracker=====\n",
      "===Menu===\n",
      "1. Add expense\n",
      "2. View All Expenses\n",
      "3. Show Total Spending\n",
      "4. Show Category-wise Summary\n",
      "5. Show Highest Expense\n",
      "6. Exit\n"
     ]
    },
    {
     "name": "stdin",
     "output_type": "stream",
     "text": [
      "Enter any one option: 1\n",
      "Enter the amount: Rs. 800\n",
      "Enter the category: Travel\n",
      "Enter the date(DD-MM-YYYY): 24-07-2025\n",
      "Enter the note: Weekend Trip\n"
     ]
    },
    {
     "name": "stdout",
     "output_type": "stream",
     "text": [
      " Expense added successfully!\n",
      "\n",
      "=====Welcome to Personal Expense Tracker=====\n",
      "===Menu===\n",
      "1. Add expense\n",
      "2. View All Expenses\n",
      "3. Show Total Spending\n",
      "4. Show Category-wise Summary\n",
      "5. Show Highest Expense\n",
      "6. Exit\n"
     ]
    },
    {
     "name": "stdin",
     "output_type": "stream",
     "text": [
      "Enter any one option: 2\n"
     ]
    },
    {
     "name": "stdout",
     "output_type": "stream",
     "text": [
      "\n",
      " ---All Expenses---\n",
      " 1. Rs.500.0 | Food | 25-05-2025 | Birthday Treat\n",
      " 2. Rs.650.0 | Food | 20-07-2025 | Dinner\n",
      " 3. Rs.800.0 | Travel | 24-07-2025 | Weekend Trip\n",
      "\n",
      "=====Welcome to Personal Expense Tracker=====\n",
      "===Menu===\n",
      "1. Add expense\n",
      "2. View All Expenses\n",
      "3. Show Total Spending\n",
      "4. Show Category-wise Summary\n",
      "5. Show Highest Expense\n",
      "6. Exit\n"
     ]
    },
    {
     "name": "stdin",
     "output_type": "stream",
     "text": [
      "Enter any one option: 3\n"
     ]
    },
    {
     "name": "stdout",
     "output_type": "stream",
     "text": [
      "Total spending: Rs.1950.0\n",
      "\n",
      "=====Welcome to Personal Expense Tracker=====\n",
      "===Menu===\n",
      "1. Add expense\n",
      "2. View All Expenses\n",
      "3. Show Total Spending\n",
      "4. Show Category-wise Summary\n",
      "5. Show Highest Expense\n",
      "6. Exit\n"
     ]
    },
    {
     "name": "stdin",
     "output_type": "stream",
     "text": [
      "Enter any one option: 4\n"
     ]
    },
    {
     "name": "stdout",
     "output_type": "stream",
     "text": [
      "\n",
      "--- Category Summary ---\n",
      "Food: RS.1150.0\n",
      "Travel: RS.800.0\n",
      "=====Welcome to Personal Expense Tracker=====\n",
      "===Menu===\n",
      "1. Add expense\n",
      "2. View All Expenses\n",
      "3. Show Total Spending\n",
      "4. Show Category-wise Summary\n",
      "5. Show Highest Expense\n",
      "6. Exit\n"
     ]
    },
    {
     "name": "stdin",
     "output_type": "stream",
     "text": [
      "Enter any one option: 5\n"
     ]
    },
    {
     "name": "stdout",
     "output_type": "stream",
     "text": [
      "Highest Expense: Rs.800.0|Travel|24-07-2025|Weekend Trip\n",
      "=====Welcome to Personal Expense Tracker=====\n",
      "===Menu===\n",
      "1. Add expense\n",
      "2. View All Expenses\n",
      "3. Show Total Spending\n",
      "4. Show Category-wise Summary\n",
      "5. Show Highest Expense\n",
      "6. Exit\n"
     ]
    },
    {
     "name": "stdin",
     "output_type": "stream",
     "text": [
      "Enter any one option: 6\n"
     ]
    },
    {
     "name": "stdout",
     "output_type": "stream",
     "text": [
      "Thankyou for using Personal Expense Tracker!\n"
     ]
    }
   ],
   "source": [
    "class Expenses():\n",
    "\n",
    "    def __init__(self,amount,category,date,note):\n",
    "        self.amount=amount\n",
    "        self.category=category\n",
    "        self.date=date\n",
    "        self.note=note\n",
    "\n",
    "    def __str__(self):\n",
    "        return f\" Rs.{self.amount} | {self.category} | {self.date} | {self.note}\"\n",
    "\n",
    "class ExpenseTracker():\n",
    "\n",
    "    def __init__(self):\n",
    "        self.expenses=[]\n",
    "\n",
    "    def add_expense(self):\n",
    "        amount=float(input(\"Enter the amount: Rs.\"))\n",
    "        category=input(\"Enter the category:\")\n",
    "        date=input(\"Enter the date(DD-MM-YYYY):\")\n",
    "        note=input(\"Enter the note:\")\n",
    "\n",
    "        expense=Expenses(amount,category,date,note)\n",
    "        self.expenses.append(expense)\n",
    "        print(f\" Expense added successfully!\\n\")\n",
    "        \n",
    "    def view_expenses(self):\n",
    "        if not self.expenses:\n",
    "            print(f\"No expenses recorded yet!\\n\")\n",
    "            return\n",
    "        else:\n",
    "            print(f\"\\n ---All Expenses---\")\n",
    "            for i,exp in enumerate(self.expenses,1):\n",
    "                print(f\" {i}.{exp}\") \n",
    "            print()\n",
    "            \n",
    "\n",
    "    def total_spending(self):\n",
    "        \n",
    "        return sum(exp.amount for exp in self.expenses)\n",
    "\n",
    "    def category_summary(self):\n",
    "        \n",
    "        if not self.expenses:\n",
    "            print(\"No expenses to summarize.\\n\")\n",
    "            return\n",
    "            \n",
    "        from collections import defaultdict\n",
    "\n",
    "        summary = defaultdict(int)\n",
    "        \n",
    "        for exp in self.expenses:\n",
    "            summary[exp.category] += exp.amount\n",
    "        \n",
    "        print(\"\\n--- Category Summary ---\")\n",
    "        for cat, total in summary.items():\n",
    "            print(f\"{cat}: RS.{total}\")\n",
    "\n",
    "\n",
    "    def highest_expense(self):\n",
    "        if not self.expenses:\n",
    "            return None\n",
    "        else:\n",
    "            highest=max(self.expenses,key=lambda x: x.amount)\n",
    "            return highest\n",
    "\n",
    "#main program\n",
    "jino=ExpenseTracker()\n",
    "\n",
    "while True:\n",
    "    print(\"=====Welcome to Personal Expense Tracker=====\")\n",
    "    print(\"===Menu===\")\n",
    "    print(\"1. Add expense\")\n",
    "    print(\"2. View All Expenses\")  \n",
    "    print(\"3. Show Total Spending\")  \n",
    "    print(\"4. Show Category-wise Summary\")  \n",
    "    print(\"5. Show Highest Expense\")   \n",
    "    print(\"6. Exit\")\n",
    "    \n",
    "    choice=input(\"Enter any one option:\")\n",
    "\n",
    "    if choice==\"1\":\n",
    "        jino.add_expense()\n",
    "    elif choice==\"2\":\n",
    "        jino.view_expenses()\n",
    "    elif choice==\"3\":\n",
    "        total= jino.total_spending()\n",
    "        print(f\"Total spending: Rs.{total}\\n\")\n",
    "    elif choice==\"4\":\n",
    "        jino.category_summary()\n",
    "    elif choice==\"5\":\n",
    "        result=jino.highest_expense()\n",
    "        if result:\n",
    "            print(f\"Highest Expense: Rs.{result.amount}|{result.category}|{result.date}|{result.note}\")\n",
    "        else:\n",
    "            print(f\"No expenses to analyze.\\n\")\n",
    "    elif choice==\"6\":\n",
    "        print(f\"Thankyou for using Personal Expense Tracker!\")\n",
    "        break\n",
    "    else:\n",
    "        print(f\"Invalid choice.Please enter a valid option from 1-6\")\n"
   ]
  },
  {
   "cell_type": "code",
   "execution_count": null,
   "id": "7791eb00-80da-4b5d-94b8-6194c48e96e6",
   "metadata": {},
   "outputs": [],
   "source": []
  }
 ],
 "metadata": {
  "kernelspec": {
   "display_name": "Python [conda env:base] *",
   "language": "python",
   "name": "conda-base-py"
  },
  "language_info": {
   "codemirror_mode": {
    "name": "ipython",
    "version": 3
   },
   "file_extension": ".py",
   "mimetype": "text/x-python",
   "name": "python",
   "nbconvert_exporter": "python",
   "pygments_lexer": "ipython3",
   "version": "3.13.5"
  }
 },
 "nbformat": 4,
 "nbformat_minor": 5
}
